{
 "cells": [
  {
   "cell_type": "code",
   "execution_count": 1,
   "id": "63ce15a0",
   "metadata": {},
   "outputs": [],
   "source": [
    "# These will come in handy later\n",
    "ALPHABET = \"ABCDEFGHIJKLMNOPQRSTUVWXYZ\"\n",
    "VOWELS = \"AEIOUY\"\n",
    "CONSONANTS = \"BCDFGHJKLMNPQRSTVWXZ\"\n",
    "BACKWARDS_ALPHABET = ALPHABET[::-1]"
   ]
  },
  {
   "cell_type": "code",
   "execution_count": 2,
   "id": "775ba662",
   "metadata": {},
   "outputs": [],
   "source": [
    "# Define function to create string from list\n",
    "def c(phrase_list):\n",
    "    return ''.join(phrase_list)"
   ]
  },
  {
   "cell_type": "code",
   "execution_count": 3,
   "id": "668dcbb4",
   "metadata": {},
   "outputs": [],
   "source": [
    "# 1. Print the words LATEST AUTO SAFETY TIPS without a space between the words\n",
    "s = list(\"LATESTAUTOSAFETYTIPS\")"
   ]
  },
  {
   "cell_type": "code",
   "execution_count": 4,
   "id": "e068da55",
   "metadata": {},
   "outputs": [
    {
     "data": {
      "text/plain": [
       "'ATESTAUTOSAFETYTIP'"
      ]
     },
     "execution_count": 4,
     "metadata": {},
     "output_type": "execute_result"
    }
   ],
   "source": [
    "# 2. Remove the first and last letters\n",
    "s2 = s[1:-1]\n",
    "c(s2)"
   ]
  },
  {
   "cell_type": "code",
   "execution_count": 5,
   "id": "5bac464f",
   "metadata": {},
   "outputs": [
    {
     "data": {
      "text/plain": [
       "'ATESTAUTONSAFETYTIP'"
      ]
     },
     "execution_count": 5,
     "metadata": {},
     "output_type": "execute_result"
    }
   ],
   "source": [
    "# 3. Insert an N at the exact center of the row\n",
    "\n",
    "mid = len(s2) // 2\n",
    "\n",
    "s2.insert(mid, \"N\")\n",
    "\n",
    "c(s2)"
   ]
  },
  {
   "cell_type": "code",
   "execution_count": 6,
   "id": "d0f43ac8",
   "metadata": {},
   "outputs": [
    {
     "name": "stdout",
     "output_type": "stream",
     "text": [
      "Latest letter: Y\n",
      "15 removed\n"
     ]
    },
    {
     "data": {
      "text/plain": [
       "'ATESTAUTONSAFETTIP'"
      ]
     },
     "execution_count": 6,
     "metadata": {},
     "output_type": "execute_result"
    }
   ],
   "source": [
    "# 4. Remove the letter that comes latest in the alphabet\n",
    "for i in range(0, len(BACKWARDS_ALPHABET) - 1):\n",
    "    \n",
    "    letter = BACKWARDS_ALPHABET[i]\n",
    "    \n",
    "    if letter in s2:\n",
    "        \n",
    "        latest_letter = letter\n",
    "        \n",
    "        print(f\"Latest letter: {latest_letter}\")\n",
    "        \n",
    "        break\n",
    "\n",
    "for i in range(0, len(s2) - 1):\n",
    "    \n",
    "    if s2[i] == latest_letter:\n",
    "        s2.pop(i)\n",
    "        print(f\"{i} removed\")\n",
    "        \n",
    "c(s2)"
   ]
  },
  {
   "cell_type": "code",
   "execution_count": 7,
   "id": "941cc53f",
   "metadata": {},
   "outputs": [
    {
     "data": {
      "text/plain": [
       "'ATESTKUTONSAFETTIP'"
      ]
     },
     "execution_count": 7,
     "metadata": {},
     "output_type": "execute_result"
    }
   ],
   "source": [
    "# 5. Remove the 3rd vowel from the left and replace it with a K\n",
    "\n",
    "vowel_counter = 0\n",
    "\n",
    "for i in range(0, len(s2)-1):\n",
    "    \n",
    "    if s2[i] in VOWELS:\n",
    "        \n",
    "        vowel_counter += 1\n",
    "        \n",
    "        if vowel_counter == 3:\n",
    "            \n",
    "            s2[i] = \"K\"\n",
    "            \n",
    "c(s2)"
   ]
  },
  {
   "cell_type": "code",
   "execution_count": 8,
   "id": "54c2f3b1",
   "metadata": {},
   "outputs": [
    {
     "data": {
      "text/plain": [
       "'ATESTKUTONSAETTIP'"
      ]
     },
     "execution_count": 8,
     "metadata": {},
     "output_type": "execute_result"
    }
   ],
   "source": [
    "# 6. Remove the consonant that comes earliest in the alphabet\n",
    "\n",
    "for letter in CONSONANTS:\n",
    "    \n",
    "    if letter in s2:\n",
    "        \n",
    "        s2.pop(s2.index(letter))\n",
    "        \n",
    "        break\n",
    "        \n",
    "c(s2)"
   ]
  },
  {
   "cell_type": "code",
   "execution_count": 9,
   "id": "21c416fa",
   "metadata": {},
   "outputs": [
    {
     "data": {
      "text/plain": [
       "'ATESTKUTGNSAETTIP'"
      ]
     },
     "execution_count": 9,
     "metadata": {},
     "output_type": "execute_result"
    }
   ],
   "source": [
    "# 7. Remove the letter in the exact center of the row and replace with \"G\"\n",
    "\n",
    "mid = len(s2) // 2\n",
    "\n",
    "s2[mid] = \"G\"\n",
    "\n",
    "c(s2)"
   ]
  },
  {
   "cell_type": "code",
   "execution_count": 10,
   "id": "b910c0bc",
   "metadata": {},
   "outputs": [
    {
     "data": {
      "text/plain": [
       "'ATESTKITGNSAETTUP'"
      ]
     },
     "execution_count": 10,
     "metadata": {},
     "output_type": "execute_result"
    }
   ],
   "source": [
    "# 8. Exchange the positions of the 3rd and 6th vowels from the left\n",
    "\n",
    "s3 = s2\n",
    "\n",
    "vowel_counter = 0\n",
    "\n",
    "for i in range(0, len(s3)-1):\n",
    "    \n",
    "    if s3[i] in VOWELS:\n",
    "        \n",
    "        vowel_counter += 1\n",
    "        \n",
    "        if vowel_counter == 3:\n",
    "            \n",
    "            vowel_3 = s3[i]\n",
    "            \n",
    "            vowel_3_idx = i\n",
    "            \n",
    "        elif vowel_counter == 6:\n",
    "            \n",
    "            vowel_6 = s3[i]\n",
    "            \n",
    "            vowel_6_idx = i\n",
    "            \n",
    "s3[vowel_3_idx] = vowel_6\n",
    "\n",
    "s3[vowel_6_idx] = vowel_3\n",
    "\n",
    "c(s2)"
   ]
  },
  {
   "cell_type": "code",
   "execution_count": 11,
   "id": "114a445e",
   "metadata": {},
   "outputs": [
    {
     "data": {
      "text/plain": [
       "'TESTKITGNSAETTU'"
      ]
     },
     "execution_count": 11,
     "metadata": {},
     "output_type": "execute_result"
    }
   ],
   "source": [
    "# 9. Remove the first and last letters\n",
    "\n",
    "s3 = s3[1:-1]\n",
    "\n",
    "c(s3)"
   ]
  },
  {
   "cell_type": "code",
   "execution_count": 12,
   "id": "1a8b4d62",
   "metadata": {},
   "outputs": [
    {
     "data": {
      "text/plain": [
       "'TESTKITGNSAEBTU'"
      ]
     },
     "execution_count": 12,
     "metadata": {},
     "output_type": "execute_result"
    }
   ],
   "source": [
    "# 10. Remove the 4th T from the left and replace it with a B\n",
    "\n",
    "t_counter = 0\n",
    "\n",
    "for i in range(0, len(s3) - 1):\n",
    "    \n",
    "    if s3[i] == \"T\":\n",
    "        \n",
    "        t_counter += 1\n",
    "        \n",
    "        if t_counter == 4:\n",
    "            \n",
    "            s3[i] = \"B\"\n",
    "            \n",
    "            break\n",
    "            \n",
    "c(s3)"
   ]
  },
  {
   "cell_type": "code",
   "execution_count": 13,
   "id": "3d28364a",
   "metadata": {},
   "outputs": [
    {
     "data": {
      "text/plain": [
       "'TESTKITGNSAEBT'"
      ]
     },
     "execution_count": 13,
     "metadata": {},
     "output_type": "execute_result"
    }
   ],
   "source": [
    "# 11. Remove the letter that comes latest in the alphabet\n",
    "\n",
    "for letter in BACKWARDS_ALPHABET:\n",
    "    \n",
    "    if letter in s3:\n",
    "        \n",
    "        s3.pop(s3.index(letter))\n",
    "        \n",
    "        break\n",
    "        \n",
    "c(s3)"
   ]
  },
  {
   "cell_type": "code",
   "execution_count": 14,
   "id": "368416c9",
   "metadata": {},
   "outputs": [
    {
     "data": {
      "text/plain": [
       "'TASTKITGNSEEBT'"
      ]
     },
     "execution_count": 14,
     "metadata": {},
     "output_type": "execute_result"
    }
   ],
   "source": [
    "# 12. Exchange the positions of the 1st and 3rd vowels from the left\n",
    "\n",
    "s4 = s3\n",
    "\n",
    "vowel_counter = 0\n",
    "\n",
    "for i in range(0, len(s4)-1):\n",
    "    \n",
    "    if s3[i] in VOWELS:\n",
    "        \n",
    "        vowel_counter += 1\n",
    "        \n",
    "        if vowel_counter == 1:\n",
    "            \n",
    "            vowel_1 = s4[i]\n",
    "            \n",
    "            vowel_1_idx = i\n",
    "            \n",
    "        elif vowel_counter == 3:\n",
    "            \n",
    "            vowel_3 = s4[i]\n",
    "            \n",
    "            vowel_3_idx = i\n",
    "            \n",
    "s4[vowel_1_idx] = vowel_3\n",
    "\n",
    "s4[vowel_3_idx] = vowel_1\n",
    "\n",
    "c(s4)"
   ]
  },
  {
   "cell_type": "code",
   "execution_count": 15,
   "id": "ebd1acc7",
   "metadata": {},
   "outputs": [
    {
     "data": {
      "text/plain": [
       "'TASTKITNGNSEEBT'"
      ]
     },
     "execution_count": 15,
     "metadata": {},
     "output_type": "execute_result"
    }
   ],
   "source": [
    "# 13. Insert an N at the exact center of the row\n",
    "\n",
    "mid = len(s4) // 2\n",
    "\n",
    "s4.insert(mid, \"N\")\n",
    "\n",
    "c(s4)"
   ]
  },
  {
   "cell_type": "code",
   "execution_count": 16,
   "id": "714d9468",
   "metadata": {},
   "outputs": [
    {
     "data": {
      "text/plain": [
       "'WASTKITNGNSEEBR'"
      ]
     },
     "execution_count": 16,
     "metadata": {},
     "output_type": "execute_result"
    }
   ],
   "source": [
    "# 14. Remove the first and last Ts and replace them with a W and an R in that order\n",
    "\n",
    "for i in range(0, len(s4) - 1):\n",
    "    \n",
    "    if s4[i] == \"T\":\n",
    "        \n",
    "        s4[i] = \"W\"\n",
    "        \n",
    "        break\n",
    "            \n",
    "for i in range(len(s4)-1, -1, -1):\n",
    "    \n",
    "    if s4[i] == \"T\":\n",
    "    \n",
    "        s4[i] = \"R\"\n",
    "    \n",
    "        break\n",
    "    \n",
    "    \n",
    "            \n",
    "c(s4)"
   ]
  },
  {
   "cell_type": "code",
   "execution_count": 17,
   "id": "f36558ec",
   "metadata": {},
   "outputs": [
    {
     "data": {
      "text/plain": [
       "'WASTKITNGNEBR'"
      ]
     },
     "execution_count": 17,
     "metadata": {},
     "output_type": "execute_result"
    }
   ],
   "source": [
    "# 15. Remove the first E from the left and the second S from the left\n",
    "\n",
    "s5 = s4\n",
    "\n",
    "s_counter = 0\n",
    "\n",
    "for i in range(0, len(s5) - 1):\n",
    "    \n",
    "    if s5[i] == \"E\":\n",
    "        \n",
    "        s5.pop(i)\n",
    "        \n",
    "        break\n",
    "        \n",
    "for i in range(0, len(s5) - 1):\n",
    "    \n",
    "    if s5[i] == \"S\":\n",
    "        \n",
    "        s_counter += 1\n",
    "        \n",
    "        if s_counter == 2:\n",
    "            \n",
    "            s5.pop(i)\n",
    "            \n",
    "c(s5)"
   ]
  },
  {
   "cell_type": "code",
   "execution_count": 18,
   "id": "2c1c4b8f",
   "metadata": {},
   "outputs": [
    {
     "data": {
      "text/plain": [
       "'WSATKITNGNEBR'"
      ]
     },
     "execution_count": 18,
     "metadata": {},
     "output_type": "execute_result"
    }
   ],
   "source": [
    "# 16. Exchange the positions of the 2nd and 3rd letters from the left\n",
    "\n",
    "second_letter = s5[1]\n",
    "\n",
    "third_letter =  s5[2]\n",
    "\n",
    "s5[1] = third_letter\n",
    "\n",
    "s5[2] = second_letter\n",
    "\n",
    "c(s5)"
   ]
  },
  {
   "cell_type": "code",
   "execution_count": 19,
   "id": "60ef061e",
   "metadata": {},
   "outputs": [
    {
     "data": {
      "text/plain": [
       "'WSAKINGNEBR'"
      ]
     },
     "execution_count": 19,
     "metadata": {},
     "output_type": "execute_result"
    }
   ],
   "source": [
    "# 17. Remove all the Ts\n",
    "\n",
    "s6 = [x for x in s5 if x != \"T\"]\n",
    "\n",
    "c(s6)"
   ]
  },
  {
   "cell_type": "code",
   "execution_count": 20,
   "id": "c90c9f97",
   "metadata": {},
   "outputs": [
    {
     "data": {
      "text/plain": [
       "'BRAKINGNEWS'"
      ]
     },
     "execution_count": 20,
     "metadata": {},
     "output_type": "execute_result"
    }
   ],
   "source": [
    "# 18. Switch the first 2 letter with the last 2 letters\n",
    "first_2_letters = s6[:2]\n",
    "\n",
    "last_2_letters = s6[-2:]\n",
    "\n",
    "s6[:2] = last_2_letters\n",
    "\n",
    "s6[-2:] = first_2_letters\n",
    "\n",
    "c(s6)"
   ]
  },
  {
   "cell_type": "code",
   "execution_count": null,
   "id": "61741e4b",
   "metadata": {},
   "outputs": [],
   "source": []
  }
 ],
 "metadata": {
  "kernelspec": {
   "display_name": "Python 3 (ipykernel)",
   "language": "python",
   "name": "python3"
  },
  "language_info": {
   "codemirror_mode": {
    "name": "ipython",
    "version": 3
   },
   "file_extension": ".py",
   "mimetype": "text/x-python",
   "name": "python",
   "nbconvert_exporter": "python",
   "pygments_lexer": "ipython3",
   "version": "3.8.5"
  },
  "varInspector": {
   "cols": {
    "lenName": 16,
    "lenType": 16,
    "lenVar": 40
   },
   "kernels_config": {
    "python": {
     "delete_cmd_postfix": "",
     "delete_cmd_prefix": "del ",
     "library": "var_list.py",
     "varRefreshCmd": "print(var_dic_list())"
    },
    "r": {
     "delete_cmd_postfix": ") ",
     "delete_cmd_prefix": "rm(",
     "library": "var_list.r",
     "varRefreshCmd": "cat(var_dic_list()) "
    }
   },
   "types_to_exclude": [
    "module",
    "function",
    "builtin_function_or_method",
    "instance",
    "_Feature"
   ],
   "window_display": false
  }
 },
 "nbformat": 4,
 "nbformat_minor": 5
}
